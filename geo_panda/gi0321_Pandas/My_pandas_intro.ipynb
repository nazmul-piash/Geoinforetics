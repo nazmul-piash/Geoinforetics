{
 "cells": [
  {
   "cell_type": "code",
   "execution_count": 5,
   "id": "52f91ef4-2443-4e65-8efc-1a6db1137b3c",
   "metadata": {},
   "outputs": [],
   "source": [
    "import pandas as pd\n",
    "import numpy as np"
   ]
  },
  {
   "cell_type": "code",
   "execution_count": 31,
   "id": "6c858eaf-e2b9-4892-9ec4-bfa1976e5f90",
   "metadata": {},
   "outputs": [
    {
     "name": "stdout",
     "output_type": "stream",
     "text": [
      "{'a': 6, 'b': 3, 'c': 4, 'd': 5}\n"
     ]
    }
   ],
   "source": [
    "x = {\"a\" : 6, \"b\" : 3, \"c\" : 4, \"d\" : 5 }\n",
    "print (x)"
   ]
  },
  {
   "cell_type": "code",
   "execution_count": 164,
   "id": "4daee718-c1d1-4392-89e7-7d7e2dee17e5",
   "metadata": {},
   "outputs": [],
   "source": []
  },
  {
   "cell_type": "code",
   "execution_count": 165,
   "id": "4ed02bd8-1b45-497a-bdf4-8e407ddacc02",
   "metadata": {},
   "outputs": [],
   "source": [
    "ser = pd.Series(x, name = \"test\")\n",
    "sry = np.array(dal)\n",
    "dfs = pd.DataFrame(ser)"
   ]
  },
  {
   "cell_type": "code",
   "execution_count": 172,
   "id": "202d2a9f-2c76-442b-9be4-e4a5884eb6b2",
   "metadata": {},
   "outputs": [
    {
     "name": "stdout",
     "output_type": "stream",
     "text": [
      "Dictoinsary to Series:\n",
      " a    6\n",
      "b    3\n",
      "c    4\n",
      "d    5\n",
      "Name: test, dtype: int64\n",
      "[['a' '6']\n",
      " ['b' '3']\n",
      " ['c' '4']\n",
      " ['d' '5']]\n",
      "Dictoinsary to Datafram:\n",
      "    test\n",
      "a     6\n",
      "b     3\n",
      "c     4\n",
      "d     5\n"
     ]
    }
   ],
   "source": [
    "print (\"Dictoinsary to Series:\\n\",ser)\n",
    "print (sry)\n",
    "print (\"Dictoinsary to Datafram:\\n\",dfs)"
   ]
  },
  {
   "cell_type": "code",
   "execution_count": 34,
   "id": "d4144439-a7ae-42eb-8272-faaa9b248355",
   "metadata": {},
   "outputs": [],
   "source": [
    "dates = pd.date_range('20200701', periods=10)"
   ]
  },
  {
   "cell_type": "code",
   "execution_count": 19,
   "id": "ff4edf63-7ba7-448a-90b7-d4b9e7bdcb83",
   "metadata": {},
   "outputs": [
    {
     "data": {
      "text/plain": [
       "DatetimeIndex(['2020-07-01', '2020-07-02', '2020-07-03', '2020-07-04',\n",
       "               '2020-07-05', '2020-07-06', '2020-07-07', '2020-07-08',\n",
       "               '2020-07-09', '2020-07-10'],\n",
       "              dtype='datetime64[ns]', freq='D')"
      ]
     },
     "execution_count": 82,
     "metadata": {},
     "output_type": "execute_result"
    }
   ],
   "source": [
    "dates"
   ]
  },
  {
   "cell_type": "code",
   "execution_count": 20,
   "id": "bd432581-e1d0-43e1-b8a1-6d4d5d3f0dbe",
   "metadata": {},
   "outputs": [],
   "source": [
    "datenp = pd.Series(dates)"
   ]
  },
  {
   "cell_type": "code",
   "execution_count": 21,
   "id": "8b306c9c-dafb-498e-b801-4c51955aee00",
   "metadata": {},
   "outputs": [
    {
     "data": {
      "text/plain": [
       "0   2020-07-01\n",
       "1   2020-07-02\n",
       "2   2020-07-03\n",
       "3   2020-07-04\n",
       "4   2020-07-05\n",
       "5   2020-07-06\n",
       "6   2020-07-07\n",
       "7   2020-07-08\n",
       "8   2020-07-09\n",
       "9   2020-07-10\n",
       "dtype: datetime64[ns]"
      ]
     },
     "execution_count": 84,
     "metadata": {},
     "output_type": "execute_result"
    }
   ],
   "source": [
    "datenp"
   ]
  },
  {
   "cell_type": "code",
   "execution_count": 36,
   "id": "0ab7fc7b-0ec9-4157-a607-ae4b36e7d8f2",
   "metadata": {
    "tags": []
   },
   "outputs": [
    {
     "name": "stdout",
     "output_type": "stream",
     "text": [
      "[39.4  54.2  25.6  34.52 47.89 54.2  25.6  34.52 34.52 47.89]\n"
     ]
    }
   ],
   "source": [
    "temp1 = np.array([39.4, 54.2, 25.6, 34.52, 47.89, 54.2, 25.6, 34.52, 34.52, 47.89])\n",
    "print(temp1)"
   ]
  },
  {
   "cell_type": "code",
   "execution_count": null,
   "id": "0f57960d-4509-44fe-a8fd-a663138be164",
   "metadata": {},
   "outputs": [],
   "source": []
  },
  {
   "cell_type": "code",
   "execution_count": 88,
   "id": "1e5e0367-8489-468c-a3f3-a6890bc0b805",
   "metadata": {},
   "outputs": [
    {
     "name": "stdout",
     "output_type": "stream",
     "text": [
      "2020-07-01    39.40\n",
      "2020-07-02    54.20\n",
      "2020-07-03    25.60\n",
      "2020-07-04    34.52\n",
      "2020-07-05    47.89\n",
      "2020-07-06    54.20\n",
      "2020-07-07    25.60\n",
      "2020-07-08    34.52\n",
      "2020-07-09    34.52\n",
      "2020-07-10    47.89\n",
      "Freq: D, Name: dtm, dtype: float64\n"
     ]
    }
   ],
   "source": [
    "marge = pd.Series(temp1,name= \"dtm\")\n",
    "marge.index = dates\n",
    "print (marge)"
   ]
  },
  {
   "cell_type": "code",
   "execution_count": 49,
   "id": "955f5e1f-2395-44f5-8ea3-4cacdbaac082",
   "metadata": {},
   "outputs": [
    {
     "data": {
      "text/plain": [
       "2020-07-01    39.4\n",
       "2020-07-02    54.2\n",
       "2020-07-03    25.6\n",
       "Freq: D, Name: dtm, dtype: float64"
      ]
     },
     "execution_count": 49,
     "metadata": {},
     "output_type": "execute_result"
    }
   ],
   "source": [
    "marge.head(3)"
   ]
  },
  {
   "cell_type": "code",
   "execution_count": 52,
   "id": "b747286d-914a-4a2a-b61e-883b019979ce",
   "metadata": {},
   "outputs": [
    {
     "data": {
      "text/plain": [
       "54.2"
      ]
     },
     "execution_count": 52,
     "metadata": {},
     "output_type": "execute_result"
    }
   ],
   "source": [
    "marge[\"2020-07-02\"]"
   ]
  },
  {
   "cell_type": "code",
   "execution_count": 56,
   "id": "77407da2-aef3-46eb-8d6d-e6df6196a469",
   "metadata": {},
   "outputs": [
    {
     "name": "stdout",
     "output_type": "stream",
     "text": [
      "2020-07-01    39.40\n",
      "2020-07-02    54.20\n",
      "2020-07-03    25.60\n",
      "2020-07-04    34.52\n",
      "2020-07-05    47.89\n",
      "2020-07-06    54.20\n",
      "2020-07-07    25.60\n",
      "2020-07-08    34.52\n",
      "2020-07-09    34.52\n",
      "2020-07-10    47.89\n",
      "Freq: D, Name: dtm, dtype: float64\n"
     ]
    }
   ],
   "source": [
    "print(marge)"
   ]
  },
  {
   "cell_type": "code",
   "execution_count": 60,
   "id": "c2a64d56-b81e-449e-a035-bb785df04c59",
   "metadata": {},
   "outputs": [
    {
     "name": "stdout",
     "output_type": "stream",
     "text": [
      "2020-07-02    54.20\n",
      "2020-07-03    25.60\n",
      "2020-07-04    34.52\n",
      "2020-07-05    47.89\n",
      "2020-07-06    54.20\n",
      "2020-07-07    25.60\n",
      "2020-07-08    34.52\n",
      "2020-07-09    34.52\n",
      "2020-07-10    47.89\n",
      "Freq: D, Name: dtm, dtype: float64\n",
      "2020-07-01    39.40\n",
      "2020-07-02    54.20\n",
      "2020-07-03    25.60\n",
      "2020-07-04    34.52\n",
      "2020-07-05    47.89\n",
      "2020-07-06    54.20\n",
      "2020-07-07    25.60\n",
      "2020-07-08    34.52\n",
      "2020-07-09    34.52\n",
      "Freq: D, Name: dtm, dtype: float64\n"
     ]
    }
   ],
   "source": [
    "print(marge[1:])\n",
    "print(marge[:-1])"
   ]
  },
  {
   "cell_type": "code",
   "execution_count": 63,
   "id": "df5718af-5231-4707-8f76-f76679e9f579",
   "metadata": {},
   "outputs": [
    {
     "name": "stdout",
     "output_type": "stream",
     "text": [
      "2020-07-01    NaN\n",
      "2020-07-02    0.0\n",
      "2020-07-03    0.0\n",
      "2020-07-04    0.0\n",
      "2020-07-05    0.0\n",
      "2020-07-06    0.0\n",
      "2020-07-07    0.0\n",
      "2020-07-08    0.0\n",
      "2020-07-09    0.0\n",
      "2020-07-10    NaN\n",
      "Freq: D, Name: dtm, dtype: float64\n"
     ]
    }
   ],
   "source": [
    "print(marge[1:] - marge[:-1])"
   ]
  },
  {
   "cell_type": "code",
   "execution_count": 68,
   "id": "1e935102-413a-47ef-8777-67d8078359a2",
   "metadata": {},
   "outputs": [
    {
     "name": "stdout",
     "output_type": "stream",
     "text": [
      "\n",
      "AFTER CHANGING NEW DATA\n",
      "2020-07-01      0.00\n",
      "2020-07-02      0.00\n",
      "2020-07-03      0.00\n",
      "2020-07-04      0.00\n",
      "2020-07-05   -302.11\n",
      "2020-07-06      0.00\n",
      "2020-07-07      0.00\n",
      "2020-07-08      0.00\n",
      "2020-07-09      0.00\n",
      "2020-07-10      0.00\n",
      "Freq: D, Name: dtm, dtype: float64\n"
     ]
    }
   ],
   "source": [
    "marge1 = marge.copy()\n",
    "marge1[\"2020-07-05\"] = 350\n",
    "print()\n",
    "print(\"AFTER CHANGING NEW DATA\")\n",
    "print(marge - marge1)"
   ]
  },
  {
   "cell_type": "code",
   "execution_count": 73,
   "id": "bba9d819-9792-45c7-8151-6e0efd67f690",
   "metadata": {},
   "outputs": [
    {
     "name": "stdout",
     "output_type": "stream",
     "text": [
      "DatetimeIndex(['2020-07-02', '2020-07-03', '2020-07-04', '2020-07-05',\n",
      "               '2020-07-06', '2020-07-07', '2020-07-08', '2020-07-09',\n",
      "               '2020-07-10', '2020-07-11'],\n",
      "              dtype='datetime64[ns]', freq='D')\n"
     ]
    }
   ],
   "source": [
    "dates1 = dates + pd.Timedelta(\"1 day\")\n",
    "print(dates1)"
   ]
  },
  {
   "cell_type": "code",
   "execution_count": 77,
   "id": "c4a87fbe-44b1-4be0-99a0-0703fa305723",
   "metadata": {},
   "outputs": [
    {
     "name": "stdout",
     "output_type": "stream",
     "text": [
      "DatetimeIndex(['2020-07-01', '2020-07-02', '2020-07-03', '2020-07-04',\n",
      "               '2020-07-05', '2020-07-06', '2020-07-07', '2020-07-08',\n",
      "               '2020-07-09', '2020-07-10'],\n",
      "              dtype='datetime64[ns]', freq='D')\n",
      "DatetimeIndex(['2020-07-02', '2020-07-03', '2020-07-04', '2020-07-05',\n",
      "               '2020-07-06', '2020-07-07', '2020-07-08', '2020-07-09',\n",
      "               '2020-07-10', '2020-07-11'],\n",
      "              dtype='datetime64[ns]', freq='D')\n",
      "2020-07-01    39.40\n",
      "2020-07-02    54.20\n",
      "2020-07-03    25.60\n",
      "2020-07-04    34.52\n",
      "2020-07-05    47.89\n",
      "2020-07-06    54.20\n",
      "2020-07-07    25.60\n",
      "2020-07-08    34.52\n",
      "2020-07-09    34.52\n",
      "2020-07-10    47.89\n",
      "Freq: D, Name: dtm, dtype: float64\n",
      "2020-07-02     39.40\n",
      "2020-07-03     54.20\n",
      "2020-07-04     25.60\n",
      "2020-07-05     34.52\n",
      "2020-07-06    350.00\n",
      "2020-07-07     54.20\n",
      "2020-07-08     25.60\n",
      "2020-07-09     34.52\n",
      "2020-07-10     34.52\n",
      "2020-07-11     47.89\n",
      "Freq: D, Name: dtm, dtype: float64\n"
     ]
    }
   ],
   "source": [
    "print(dates)\n",
    "print(dates1)\n",
    "print(marge)\n",
    "marge1.index = dates1\n",
    "print(marge1)"
   ]
  },
  {
   "cell_type": "code",
   "execution_count": 79,
   "id": "e46eb2c4-8e57-4796-89cb-5f2e0d68646e",
   "metadata": {},
   "outputs": [
    {
     "name": "stdout",
     "output_type": "stream",
     "text": [
      "2020-07-01       NaN\n",
      "2020-07-02    -14.80\n",
      "2020-07-03     28.60\n",
      "2020-07-04     -8.92\n",
      "2020-07-05    -13.37\n",
      "2020-07-06    295.80\n",
      "2020-07-07     28.60\n",
      "2020-07-08     -8.92\n",
      "2020-07-09      0.00\n",
      "2020-07-10    -13.37\n",
      "2020-07-11       NaN\n",
      "Freq: D, Name: dtm, dtype: float64\n"
     ]
    }
   ],
   "source": [
    "print(marge1 - marge)"
   ]
  },
  {
   "cell_type": "code",
   "execution_count": 113,
   "id": "fb723393-fee7-47b4-ae63-f214642c438e",
   "metadata": {},
   "outputs": [
    {
     "name": "stdout",
     "output_type": "stream",
     "text": [
      "[ 0.5034501   0.08325114 -0.82499952 -0.13094254  0.93775659  0.21038973\n",
      " -0.68981197 -1.36424474  0.43896184 -0.27635443]\n"
     ]
    }
   ],
   "source": [
    "ran = np.random.randn(10)\n",
    "print(ran)"
   ]
  },
  {
   "cell_type": "code",
   "execution_count": 99,
   "id": "ccff9c40-d263-4dae-b7bd-11a0011e580d",
   "metadata": {},
   "outputs": [
    {
     "name": "stdout",
     "output_type": "stream",
     "text": [
      "2020-07-03    41.396667\n",
      "2020-07-04    53.503769\n",
      "2020-07-05    27.585362\n",
      "2020-07-06    34.643086\n",
      "2020-07-07    47.285831\n",
      "2020-07-08    53.039123\n",
      "2020-07-09    24.129837\n",
      "2020-07-10    33.866681\n",
      "2020-07-11    35.737542\n",
      "2020-07-12    48.671217\n",
      "Freq: D, Name: dtm, dtype: float64\n"
     ]
    }
   ],
   "source": [
    "marge2 = marge + np.random.randn(10)\n",
    "dates2 = dates + pd.Timedelta('2 day')\n",
    "marge2.index = dates2\n",
    "print(marge2)"
   ]
  },
  {
   "cell_type": "code",
   "execution_count": 100,
   "id": "42650185-4d65-4da3-95b9-a42812f96675",
   "metadata": {},
   "outputs": [
    {
     "name": "stdout",
     "output_type": "stream",
     "text": [
      "2020-07-01          NaN\n",
      "2020-07-02          NaN\n",
      "2020-07-03   -15.796667\n",
      "2020-07-04   -18.983769\n",
      "2020-07-05    20.304638\n",
      "2020-07-06    19.556914\n",
      "2020-07-07   -21.685831\n",
      "2020-07-08   -18.519123\n",
      "2020-07-09    10.390163\n",
      "2020-07-10    14.023319\n",
      "2020-07-11          NaN\n",
      "2020-07-12          NaN\n",
      "Freq: D, Name: dtm, dtype: float64\n"
     ]
    }
   ],
   "source": [
    "print(marge - marge2)"
   ]
  },
  {
   "cell_type": "code",
   "execution_count": 102,
   "id": "d2642b74-14d5-4121-a80f-0cc6fae8c75e",
   "metadata": {},
   "outputs": [
    {
     "data": {
      "text/plain": [
       "2020-07-03    41.396667\n",
       "2020-07-04    53.503769\n",
       "2020-07-05    27.585362\n",
       "2020-07-06    34.643086\n",
       "2020-07-07    47.285831\n",
       "2020-07-08    53.039123\n",
       "2020-07-09    24.129837\n",
       "2020-07-10    33.866681\n",
       "2020-07-11    35.737542\n",
       "2020-07-12    48.671217\n",
       "Freq: D, Name: S003, dtype: float64"
      ]
     },
     "execution_count": 102,
     "metadata": {},
     "output_type": "execute_result"
    }
   ],
   "source": [
    "marge.rename(\"S001\", inplace = True)\n",
    "marge1.rename(\"S002\", inplace = True)\n",
    "marge2.rename(\"S003\", inplace = True)"
   ]
  },
  {
   "cell_type": "code",
   "execution_count": 105,
   "id": "3cc03570-4345-4c74-8491-786f276b241c",
   "metadata": {},
   "outputs": [
    {
     "data": {
      "text/plain": [
       "2020-07-02     39.40\n",
       "2020-07-03     54.20\n",
       "2020-07-04     25.60\n",
       "2020-07-05     34.52\n",
       "2020-07-06    350.00\n",
       "2020-07-07     54.20\n",
       "2020-07-08     25.60\n",
       "2020-07-09     34.52\n",
       "2020-07-10     34.52\n",
       "2020-07-11     47.89\n",
       "Freq: D, Name: S002, dtype: float64"
      ]
     },
     "execution_count": 105,
     "metadata": {},
     "output_type": "execute_result"
    }
   ],
   "source": [
    "marge1"
   ]
  },
  {
   "cell_type": "code",
   "execution_count": 107,
   "id": "0f99af39-e8b1-473d-b782-1d767086a632",
   "metadata": {
    "tags": []
   },
   "outputs": [],
   "source": [
    "## DATA FRAME"
   ]
  },
  {
   "cell_type": "code",
   "execution_count": null,
   "id": "463ee61b-bedf-4455-84b5-dffc792c3aae",
   "metadata": {},
   "outputs": [],
   "source": []
  },
  {
   "cell_type": "code",
   "execution_count": 116,
   "id": "ebec1829-17fd-48a3-854a-8b60709e199c",
   "metadata": {},
   "outputs": [
    {
     "data": {
      "text/html": [
       "<div>\n",
       "<style scoped>\n",
       "    .dataframe tbody tr th:only-of-type {\n",
       "        vertical-align: middle;\n",
       "    }\n",
       "\n",
       "    .dataframe tbody tr th {\n",
       "        vertical-align: top;\n",
       "    }\n",
       "\n",
       "    .dataframe thead th {\n",
       "        text-align: right;\n",
       "    }\n",
       "</style>\n",
       "<table border=\"1\" class=\"dataframe\">\n",
       "  <thead>\n",
       "    <tr style=\"text-align: right;\">\n",
       "      <th></th>\n",
       "      <th>S001</th>\n",
       "    </tr>\n",
       "  </thead>\n",
       "  <tbody>\n",
       "    <tr>\n",
       "      <th>2020-07-01</th>\n",
       "      <td>39.40</td>\n",
       "    </tr>\n",
       "    <tr>\n",
       "      <th>2020-07-02</th>\n",
       "      <td>54.20</td>\n",
       "    </tr>\n",
       "    <tr>\n",
       "      <th>2020-07-03</th>\n",
       "      <td>25.60</td>\n",
       "    </tr>\n",
       "    <tr>\n",
       "      <th>2020-07-04</th>\n",
       "      <td>34.52</td>\n",
       "    </tr>\n",
       "    <tr>\n",
       "      <th>2020-07-05</th>\n",
       "      <td>47.89</td>\n",
       "    </tr>\n",
       "    <tr>\n",
       "      <th>2020-07-06</th>\n",
       "      <td>54.20</td>\n",
       "    </tr>\n",
       "    <tr>\n",
       "      <th>2020-07-07</th>\n",
       "      <td>25.60</td>\n",
       "    </tr>\n",
       "    <tr>\n",
       "      <th>2020-07-08</th>\n",
       "      <td>34.52</td>\n",
       "    </tr>\n",
       "    <tr>\n",
       "      <th>2020-07-09</th>\n",
       "      <td>34.52</td>\n",
       "    </tr>\n",
       "    <tr>\n",
       "      <th>2020-07-10</th>\n",
       "      <td>47.89</td>\n",
       "    </tr>\n",
       "  </tbody>\n",
       "</table>\n",
       "</div>"
      ],
      "text/plain": [
       "             S001\n",
       "2020-07-01  39.40\n",
       "2020-07-02  54.20\n",
       "2020-07-03  25.60\n",
       "2020-07-04  34.52\n",
       "2020-07-05  47.89\n",
       "2020-07-06  54.20\n",
       "2020-07-07  25.60\n",
       "2020-07-08  34.52\n",
       "2020-07-09  34.52\n",
       "2020-07-10  47.89"
      ]
     },
     "execution_count": 116,
     "metadata": {},
     "output_type": "execute_result"
    }
   ],
   "source": [
    "df1 = pd.DataFrame(marge)\n",
    "df1"
   ]
  },
  {
   "cell_type": "code",
   "execution_count": 118,
   "id": "3ccb3494-c3f4-4d84-894e-3679fc396ac7",
   "metadata": {},
   "outputs": [],
   "source": [
    "df2 = pd.DataFrame(marge1)\n",
    "df2\n",
    "df3 = pd.DataFrame(marge2)"
   ]
  },
  {
   "cell_type": "code",
   "execution_count": 128,
   "id": "729a6d67-164c-45a0-baa7-dbf1ed1ad61c",
   "metadata": {},
   "outputs": [
    {
     "data": {
      "text/html": [
       "<div>\n",
       "<style scoped>\n",
       "    .dataframe tbody tr th:only-of-type {\n",
       "        vertical-align: middle;\n",
       "    }\n",
       "\n",
       "    .dataframe tbody tr th {\n",
       "        vertical-align: top;\n",
       "    }\n",
       "\n",
       "    .dataframe thead th {\n",
       "        text-align: right;\n",
       "    }\n",
       "</style>\n",
       "<table border=\"1\" class=\"dataframe\">\n",
       "  <thead>\n",
       "    <tr style=\"text-align: right;\">\n",
       "      <th></th>\n",
       "      <th>S001</th>\n",
       "      <th>S002</th>\n",
       "    </tr>\n",
       "  </thead>\n",
       "  <tbody>\n",
       "    <tr>\n",
       "      <th>2020-07-01</th>\n",
       "      <td>39.40</td>\n",
       "      <td>NaN</td>\n",
       "    </tr>\n",
       "    <tr>\n",
       "      <th>2020-07-02</th>\n",
       "      <td>54.20</td>\n",
       "      <td>39.40</td>\n",
       "    </tr>\n",
       "    <tr>\n",
       "      <th>2020-07-03</th>\n",
       "      <td>25.60</td>\n",
       "      <td>54.20</td>\n",
       "    </tr>\n",
       "    <tr>\n",
       "      <th>2020-07-04</th>\n",
       "      <td>34.52</td>\n",
       "      <td>25.60</td>\n",
       "    </tr>\n",
       "    <tr>\n",
       "      <th>2020-07-05</th>\n",
       "      <td>47.89</td>\n",
       "      <td>34.52</td>\n",
       "    </tr>\n",
       "    <tr>\n",
       "      <th>2020-07-06</th>\n",
       "      <td>54.20</td>\n",
       "      <td>350.00</td>\n",
       "    </tr>\n",
       "    <tr>\n",
       "      <th>2020-07-07</th>\n",
       "      <td>25.60</td>\n",
       "      <td>54.20</td>\n",
       "    </tr>\n",
       "    <tr>\n",
       "      <th>2020-07-08</th>\n",
       "      <td>34.52</td>\n",
       "      <td>25.60</td>\n",
       "    </tr>\n",
       "    <tr>\n",
       "      <th>2020-07-09</th>\n",
       "      <td>34.52</td>\n",
       "      <td>34.52</td>\n",
       "    </tr>\n",
       "    <tr>\n",
       "      <th>2020-07-10</th>\n",
       "      <td>47.89</td>\n",
       "      <td>34.52</td>\n",
       "    </tr>\n",
       "    <tr>\n",
       "      <th>2020-07-11</th>\n",
       "      <td>NaN</td>\n",
       "      <td>47.89</td>\n",
       "    </tr>\n",
       "  </tbody>\n",
       "</table>\n",
       "</div>"
      ],
      "text/plain": [
       "             S001    S002\n",
       "2020-07-01  39.40     NaN\n",
       "2020-07-02  54.20   39.40\n",
       "2020-07-03  25.60   54.20\n",
       "2020-07-04  34.52   25.60\n",
       "2020-07-05  47.89   34.52\n",
       "2020-07-06  54.20  350.00\n",
       "2020-07-07  25.60   54.20\n",
       "2020-07-08  34.52   25.60\n",
       "2020-07-09  34.52   34.52\n",
       "2020-07-10  47.89   34.52\n",
       "2020-07-11    NaN   47.89"
      ]
     },
     "execution_count": 128,
     "metadata": {},
     "output_type": "execute_result"
    }
   ],
   "source": [
    "d = pd.concat([df1,df2], axis = 1)\n",
    "d"
   ]
  },
  {
   "cell_type": "code",
   "execution_count": 129,
   "id": "982010fe-9866-4372-8f02-9467f112c138",
   "metadata": {},
   "outputs": [],
   "source": [
    "d = {marge.name : marge, marge1.name : marge1, marge2.name : marge2}"
   ]
  },
  {
   "cell_type": "code",
   "execution_count": 131,
   "id": "a96d6e71-5f46-45b2-897c-6f15a9833fa4",
   "metadata": {},
   "outputs": [
    {
     "data": {
      "text/html": [
       "<div>\n",
       "<style scoped>\n",
       "    .dataframe tbody tr th:only-of-type {\n",
       "        vertical-align: middle;\n",
       "    }\n",
       "\n",
       "    .dataframe tbody tr th {\n",
       "        vertical-align: top;\n",
       "    }\n",
       "\n",
       "    .dataframe thead th {\n",
       "        text-align: right;\n",
       "    }\n",
       "</style>\n",
       "<table border=\"1\" class=\"dataframe\">\n",
       "  <thead>\n",
       "    <tr style=\"text-align: right;\">\n",
       "      <th></th>\n",
       "      <th>S001</th>\n",
       "      <th>S002</th>\n",
       "      <th>S003</th>\n",
       "    </tr>\n",
       "  </thead>\n",
       "  <tbody>\n",
       "    <tr>\n",
       "      <th>2020-07-01</th>\n",
       "      <td>39.40</td>\n",
       "      <td>NaN</td>\n",
       "      <td>NaN</td>\n",
       "    </tr>\n",
       "    <tr>\n",
       "      <th>2020-07-02</th>\n",
       "      <td>54.20</td>\n",
       "      <td>39.40</td>\n",
       "      <td>NaN</td>\n",
       "    </tr>\n",
       "    <tr>\n",
       "      <th>2020-07-03</th>\n",
       "      <td>25.60</td>\n",
       "      <td>54.20</td>\n",
       "      <td>41.396667</td>\n",
       "    </tr>\n",
       "    <tr>\n",
       "      <th>2020-07-04</th>\n",
       "      <td>34.52</td>\n",
       "      <td>25.60</td>\n",
       "      <td>53.503769</td>\n",
       "    </tr>\n",
       "    <tr>\n",
       "      <th>2020-07-05</th>\n",
       "      <td>47.89</td>\n",
       "      <td>34.52</td>\n",
       "      <td>27.585362</td>\n",
       "    </tr>\n",
       "    <tr>\n",
       "      <th>2020-07-06</th>\n",
       "      <td>54.20</td>\n",
       "      <td>350.00</td>\n",
       "      <td>34.643086</td>\n",
       "    </tr>\n",
       "    <tr>\n",
       "      <th>2020-07-07</th>\n",
       "      <td>25.60</td>\n",
       "      <td>54.20</td>\n",
       "      <td>47.285831</td>\n",
       "    </tr>\n",
       "    <tr>\n",
       "      <th>2020-07-08</th>\n",
       "      <td>34.52</td>\n",
       "      <td>25.60</td>\n",
       "      <td>53.039123</td>\n",
       "    </tr>\n",
       "    <tr>\n",
       "      <th>2020-07-09</th>\n",
       "      <td>34.52</td>\n",
       "      <td>34.52</td>\n",
       "      <td>24.129837</td>\n",
       "    </tr>\n",
       "    <tr>\n",
       "      <th>2020-07-10</th>\n",
       "      <td>47.89</td>\n",
       "      <td>34.52</td>\n",
       "      <td>33.866681</td>\n",
       "    </tr>\n",
       "    <tr>\n",
       "      <th>2020-07-11</th>\n",
       "      <td>NaN</td>\n",
       "      <td>47.89</td>\n",
       "      <td>35.737542</td>\n",
       "    </tr>\n",
       "    <tr>\n",
       "      <th>2020-07-12</th>\n",
       "      <td>NaN</td>\n",
       "      <td>NaN</td>\n",
       "      <td>48.671217</td>\n",
       "    </tr>\n",
       "  </tbody>\n",
       "</table>\n",
       "</div>"
      ],
      "text/plain": [
       "             S001    S002       S003\n",
       "2020-07-01  39.40     NaN        NaN\n",
       "2020-07-02  54.20   39.40        NaN\n",
       "2020-07-03  25.60   54.20  41.396667\n",
       "2020-07-04  34.52   25.60  53.503769\n",
       "2020-07-05  47.89   34.52  27.585362\n",
       "2020-07-06  54.20  350.00  34.643086\n",
       "2020-07-07  25.60   54.20  47.285831\n",
       "2020-07-08  34.52   25.60  53.039123\n",
       "2020-07-09  34.52   34.52  24.129837\n",
       "2020-07-10  47.89   34.52  33.866681\n",
       "2020-07-11    NaN   47.89  35.737542\n",
       "2020-07-12    NaN     NaN  48.671217"
      ]
     },
     "execution_count": 131,
     "metadata": {},
     "output_type": "execute_result"
    }
   ],
   "source": [
    "df = pd.DataFrame(d)\n",
    "df"
   ]
  },
  {
   "cell_type": "code",
   "execution_count": null,
   "id": "758b3d8c-edd9-4607-bc6e-95b0a18109fe",
   "metadata": {},
   "outputs": [],
   "source": []
  },
  {
   "cell_type": "code",
   "execution_count": null,
   "id": "86b877b0-8860-4d9b-a34e-082009c8d353",
   "metadata": {},
   "outputs": [],
   "source": []
  },
  {
   "cell_type": "code",
   "execution_count": 133,
   "id": "d893705c-ca32-4482-a87c-98a5ebb66ea6",
   "metadata": {},
   "outputs": [],
   "source": [
    "import matplotlib as mpl\n",
    "import matplotlib.pyplot as plt"
   ]
  },
  {
   "cell_type": "code",
   "execution_count": 153,
   "id": "30ffb9f9-8e0c-41a6-8ef5-3f83784604f2",
   "metadata": {},
   "outputs": [
    {
     "data": {
      "image/png": "[encoded data removed]",
      "text/plain": [
       "<Figure size 780x390 with 1 Axes>"
      ]
     },
     "metadata": {
      "needs_background": "light"
     },
     "output_type": "display_data"
    }
   ],
   "source": [
    "fig1, ax1 = plt.subplots(1,1,dpi = 130, figsize=(6,3))\n",
    "df.plot(ax = ax1, style=\"-*\")\n",
    "ax1.set_xlabel(\"Time / days\")\n",
    "ax1.set_ylabel(\"Temperature / °C\")\n",
    "ax1.grid(True)\n",
    "plt.show()"
   ]
  },
  {
   "cell_type": "code",
   "execution_count": 149,
   "id": "cb6b7d01-c408-4224-b839-d8d7b04b191f",
   "metadata": {},
   "outputs": [
    {
     "data": {
      "image/png": "[encoded data removed]",
      "text/plain": [
       "<Figure size 432x288 with 1 Axes>"
      ]
     },
     "metadata": {
      "needs_background": "light"
     },
     "output_type": "display_data"
    }
   ],
   "source": [
    "plt.plot([1, 2, 3, 4])\n",
    "plt.ylabel('some numbers')\n",
    "plt.show()"
   ]
  },
  {
   "cell_type": "code",
   "execution_count": null,
   "id": "a523ad37-d1d8-4970-90a5-fe41224bd840",
   "metadata": {},
   "outputs": [],
   "source": []
  }
 ],
 "metadata": {
  "kernelspec": {
   "display_name": "Python 3 (ipykernel)",
   "language": "python",
   "name": "python3"
  },
  "language_info": {
   "codemirror_mode": {
    "name": "ipython",
    "version": 3
   },
   "file_extension": ".py",
   "mimetype": "text/x-python",
   "name": "python",
   "nbconvert_exporter": "python",
   "pygments_lexer": "ipython3",
   "version": "3.9.7"
  }
 },
 "nbformat": 4,
 "nbformat_minor": 5
}
