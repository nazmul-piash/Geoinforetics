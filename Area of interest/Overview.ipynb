{
 "cells": [
  {
   "cell_type": "markdown",
   "metadata": {},
   "source": [
    "# Area of Interest\n",
    "The main investigation area for the Soil Moisture Index (SMI) is located in the south-eastern part of North-Rhine Westphalia.\n",
    "The following Figure 2.1 shows the interested 13 counties with the active 44 stations."
   ]
  },
  {
   "cell_type": "markdown",
   "metadata": {},
   "source": [
    "<img src=\"Task 1/QGIS/NRW.png\">"
   ]
  },
  {
   "cell_type": "markdown",
   "metadata": {},
   "source": [
    "The investigation period for the tasks is selected between the month's May to August of 2018. SMI map is generated on dates of 2018-05-16, 2018-06-16, 2018-07-16, 2018-08-16. Deutscher Wetterdienst (DWD) Climate Data Center (CDC) has free access to the climate data of the weather station which provides the precipitation data of the interested area. The free\n",
    "access to the climate data center allows using the historical and recent data for the precipitation"
   ]
  },
  {
   "cell_type": "markdown",
   "metadata": {},
   "source": [
    "<img src =\"Task 1/QGIS/SMI_Map.png\">"
   ]
  },
  {
   "cell_type": "code",
   "execution_count": null,
   "metadata": {},
   "outputs": [],
   "source": []
  },
  {
   "cell_type": "code",
   "execution_count": null,
   "metadata": {},
   "outputs": [],
   "source": []
  }
 ],
 "metadata": {
  "kernelspec": {
   "display_name": "Python 3",
   "language": "python",
   "name": "python3"
  },
  "language_info": {
   "codemirror_mode": {
    "name": "ipython",
    "version": 3
   },
   "file_extension": ".py",
   "mimetype": "text/x-python",
   "name": "python",
   "nbconvert_exporter": "python",
   "pygments_lexer": "ipython3",
   "version": "3.7.4"
  }
 },
 "nbformat": 4,
 "nbformat_minor": 4
}
